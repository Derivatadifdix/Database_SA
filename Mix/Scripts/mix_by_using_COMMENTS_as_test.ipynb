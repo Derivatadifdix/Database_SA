{
  "nbformat": 4,
  "nbformat_minor": 0,
  "metadata": {
    "colab": {
      "provenance": []
    },
    "kernelspec": {
      "name": "python3",
      "display_name": "Python 3"
    },
    "language_info": {
      "name": "python"
    }
  },
  "cells": [
    {
      "cell_type": "code",
      "execution_count": 19,
      "metadata": {
        "id": "cE5DwdkUUNPW",
        "colab": {
          "base_uri": "https://localhost:8080/"
        },
        "outputId": "278c532b-4201-473f-af85-0c0a529b4054"
      },
      "outputs": [
        {
          "output_type": "stream",
          "name": "stdout",
          "text": [
            "mkdir: cannot create directory ‘dataset’: File exists\n"
          ]
        }
      ],
      "source": [
        "%mkdir dataset\n",
        "# Accuracy for Comments (Fine-tuned): 0.827"
      ]
    },
    {
      "cell_type": "markdown",
      "source": [
        "# load datasets\n"
      ],
      "metadata": {
        "id": "1RvO__r6UdMV"
      }
    },
    {
      "cell_type": "code",
      "source": [
        "import pandas as pd\n",
        "#loading the id and the LABELS\n",
        "sentiment_pd = pd.read_csv(\"/content/dataset/sentiment_labels.txt\",\n",
        "                  sep=\"|\",\n",
        "                  header=0,\n",
        "                  names=['phrase_id', 's_label'],\n",
        "                  on_bad_lines='skip')\n",
        "\n",
        "#loading the id and the PHRASES\n",
        "phrases_pd = pd.read_csv(\"/content/dataset/dictionary.txt\",\n",
        "                         sep=\"|\",\n",
        "                         header=None,\n",
        "                         on_bad_lines='skip',\n",
        "                         names=['phrase', 'phrase_id'])\n",
        "v = pd.read_csv(\"/content/dataset/dictionary.txt\", sep=\"|\", header=0)"
      ],
      "metadata": {
        "id": "EabcrUfyBoZ7"
      },
      "execution_count": 20,
      "outputs": []
    },
    {
      "cell_type": "code",
      "source": [
        "comments = pd.read_csv(\"/content/dataset/Reddit_Data.csv\")\n"
      ],
      "metadata": {
        "id": "UBdTmmYAi2m7"
      },
      "execution_count": 21,
      "outputs": []
    },
    {
      "cell_type": "markdown",
      "source": [
        "#Discretizzare labels"
      ],
      "metadata": {
        "id": "Xj3LAYEfsttd"
      }
    },
    {
      "cell_type": "code",
      "source": [
        "categories = { 0.34:'negative', 0.65:'neutral', 1:'positive'}\n",
        "categories_comments = { -1 :'negative', 0:'neutral', 1:'positive'}\n",
        "thresholds = list(categories.keys())\n",
        "thresholds_c = list(categories_comments.keys())\n",
        "\n",
        "sentiment_pd['s_label_disc'] = sentiment_pd['s_label'].apply(lambda x: next(categories[t] for t in thresholds if x <= t), 'OUTLIER')\n",
        "\n",
        "comments['category_disc'] = comments['category'].apply(lambda x: next(categories_comments[t] for t in thresholds_c if x==t))\n",
        "# comments['category_disc'] = comments['category'].apply(lambda x: next(categories[t] for t in thresholds if x<=t))"
      ],
      "metadata": {
        "id": "LYuf7pfMi_Cf"
      },
      "execution_count": 22,
      "outputs": []
    },
    {
      "cell_type": "code",
      "source": [
        "reviews = pd.DataFrame({'phrase_id': sentiment_pd['phrase_id'], 'phrase': phrases_pd['phrase'], 's_label_disc':sentiment_pd['s_label_disc'],  's_label': sentiment_pd['s_label']})\n",
        "reviews['phrase'].loc[reviews['s_label'].idxmax()]"
      ],
      "metadata": {
        "id": "Ir6PveIcneJw",
        "colab": {
          "base_uri": "https://localhost:8080/",
          "height": 36
        },
        "outputId": "c325610e-fe81-4348-bcc4-43244012c4ff"
      },
      "execution_count": 23,
      "outputs": [
        {
          "output_type": "execute_result",
          "data": {
            "text/plain": [
              "\"'s not Little Nicky . And for many of us , that 's good enough\""
            ],
            "application/vnd.google.colaboratory.intrinsic+json": {
              "type": "string"
            }
          },
          "metadata": {},
          "execution_count": 23
        }
      ]
    },
    {
      "cell_type": "markdown",
      "source": [
        "# **data cleaning**"
      ],
      "metadata": {
        "id": "u8GAX36TVcDi"
      }
    },
    {
      "cell_type": "markdown",
      "source": [
        "#EMPTY DATA cleaning"
      ],
      "metadata": {
        "id": "17ojAdEGlK_E"
      }
    },
    {
      "cell_type": "code",
      "source": [
        "#Remove NON STRING ELEMENTS and EMPTY STRINGS\n",
        "comments = comments[comments['clean_comment'].apply(lambda x: isinstance(x,str) and len(x) > 0)]\n",
        "#lower strings\n",
        "comments['clean_comment'] = comments['clean_comment'].apply(lambda x: x.lower())\n",
        "\n",
        "#Remove NON STRING ELEMENTS and EMPTY STRINGS\n",
        "reviews = reviews[reviews['phrase'].apply(lambda x: isinstance(x,str) and len(x) > 0)]\n",
        "#lower strings\n",
        "reviews['phrase'] = reviews['phrase'].apply(lambda x: x.lower())"
      ],
      "metadata": {
        "id": "mSdN4DqKjGiW"
      },
      "execution_count": 24,
      "outputs": []
    },
    {
      "cell_type": "markdown",
      "source": [
        "# removing stop words"
      ],
      "metadata": {
        "id": "7hriVnhje6mj"
      }
    },
    {
      "cell_type": "code",
      "source": [
        "import nltk\n",
        "from nltk.corpus import stopwords\n",
        "nltk.download('stopwords')\n",
        "stop_words = list(stopwords.words('english'))\n",
        "#stop_words_df = pd.DataFrame(data=stop_words, columns=['STOP_WORD'])\n",
        "#Removing the stopwords in x\n",
        "comments['clean_comment'] = comments['clean_comment'].apply(lambda x: ' '.join([word for word in x.split() if word not in stop_words]))\n",
        "\n",
        "#Removing the stopwords in x\n",
        "reviews['phrase'] = reviews['phrase'].apply(lambda x: ' '.join([word for word in x.split() if word not in stop_words]))\n",
        "\n"
      ],
      "metadata": {
        "id": "yWcVbtz0e6Pp",
        "colab": {
          "base_uri": "https://localhost:8080/"
        },
        "outputId": "5d912a19-d315-4f06-b4c9-f8ba65739dbe"
      },
      "execution_count": 25,
      "outputs": [
        {
          "output_type": "stream",
          "name": "stderr",
          "text": [
            "[nltk_data] Downloading package stopwords to /root/nltk_data...\n",
            "[nltk_data]   Package stopwords is already up-to-date!\n"
          ]
        }
      ]
    },
    {
      "cell_type": "code",
      "source": [
        "#punctuation removal nuetral\n",
        "import string\n",
        "comments['clean_comment'] = comments['clean_comment'].apply(lambda x: ' '.join([word for word in x.split() if word not in string.punctuation]))\n",
        "\n",
        "#remove empty raws\n",
        "comments = comments[comments['clean_comment'].apply(lambda x: isinstance(x,str) and len(x) > 0)]\n",
        "\n",
        "#punctuation removal nuetral\n",
        "import string\n",
        "reviews['phrase'] = reviews['phrase'].apply(lambda x: ' '.join([word for word in x.split() if word not in string.punctuation]))\n",
        "\n",
        "#remove empty raws\n",
        "reviews = reviews[reviews['phrase'].apply(lambda x: isinstance(x,str) and len(x) > 0)]\n",
        "\n",
        "#neutral is cleaned"
      ],
      "metadata": {
        "id": "Fi66rpQJVdmy"
      },
      "execution_count": 26,
      "outputs": []
    },
    {
      "cell_type": "code",
      "source": [
        "import nltk\n",
        "from nltk.corpus import stopwords\n",
        "\n",
        "# Download NLTK resources if not already installed\n",
        "nltk.download('punkt')\n",
        "nltk.download('stopwords')\n",
        "\n",
        "def remove_punctuation_stopwords(text):\n",
        "  # Tokenize the text\n",
        "  tokens = nltk.word_tokenize(text)\n",
        "  # Filter out punctuation and stopwords\n",
        "  stop_words = set(stopwords.words('english'))  # Download stopwords for your language\n",
        "  filtered_tokens = [word.lower() for word in tokens if word.isalnum() and word not in stop_words]\n",
        "  return ' '.join(filtered_tokens)\n",
        "\n",
        "reviews['phrase'] = reviews['phrase'].apply(remove_punctuation_stopwords)\n",
        "comments['clean_comment'] = comments['clean_comment'].apply(remove_punctuation_stopwords)\n",
        "\n"
      ],
      "metadata": {
        "id": "bnmUFig9sG7n",
        "colab": {
          "base_uri": "https://localhost:8080/"
        },
        "outputId": "64a453b2-dded-464c-8d45-5602bbb3a550"
      },
      "execution_count": 27,
      "outputs": [
        {
          "output_type": "stream",
          "name": "stderr",
          "text": [
            "[nltk_data] Downloading package punkt to /root/nltk_data...\n",
            "[nltk_data]   Package punkt is already up-to-date!\n",
            "[nltk_data] Downloading package stopwords to /root/nltk_data...\n",
            "[nltk_data]   Package stopwords is already up-to-date!\n"
          ]
        }
      ]
    },
    {
      "cell_type": "code",
      "source": [
        "reviews['phrase'] = reviews['phrase'].apply(lambda x: ' '.join([char for char in x.split() if not char.isdigit()]))\n",
        "\n",
        "#remove empty raws\n",
        "reviews = reviews[reviews['phrase'].apply(lambda x: isinstance(x,str) and len(x) > 0)]\n",
        "\n",
        "comments['clean_comment'] = comments['clean_comment'].apply(lambda x: ' '.join([char for char in x.split() if not char.isdigit()]))\n",
        "\n",
        "#remove empty raws\n",
        "comments = comments[comments['clean_comment'].apply(lambda x: isinstance(x,str) and len(x) > 0)]"
      ],
      "metadata": {
        "id": "85JeSIwsygZC"
      },
      "execution_count": 28,
      "outputs": []
    },
    {
      "cell_type": "markdown",
      "source": [
        "# **Learning**"
      ],
      "metadata": {
        "id": "nBDPJ-m_6TSt"
      }
    },
    {
      "cell_type": "code",
      "source": [
        "from sklearn.model_selection import train_test_split\n",
        "from sklearn.feature_extraction.text import TfidfVectorizer\n",
        "from sklearn.linear_model import LogisticRegression\n",
        "from sklearn.metrics import classification_report, accuracy_score\n",
        "\n",
        "# Assuming you have two datasets: reviews and comments\n",
        "\n",
        "# Initialize TF-IDF vectorizer\n",
        "tfidf_vectorizer = TfidfVectorizer(max_features=10000)\n",
        "\n",
        "# Fit and transform the training data (reviews)\n",
        "X_train_tfidf = tfidf_vectorizer.fit_transform(reviews['phrase'])\n",
        "y_train_reviews = reviews['s_label_disc']\n",
        "\n",
        "# Initialize logistic regression classifier\n",
        "classifier = LogisticRegression(max_iter=10000)\n",
        "\n",
        "# Train the classifier on reviews dataset\n",
        "classifier.fit(X_train_tfidf, y_train_reviews)\n",
        "\n",
        "# Evaluate the classifier on comments dataset\n",
        "\n",
        "\n",
        "# --- Fine-tuning on Comments (Optional) ---\n",
        "\n",
        "# Split comments for training and testing\n",
        "X_train_comments, X_test_comments, y_train_comments, y_test_comments = train_test_split(comments['clean_comment'],\n",
        "                                                                                        comments['category_disc'],\n",
        "                                                                                        test_size=0.2,\n",
        "                                                                                        random_state=42)\n",
        "\n",
        "# Transform comments training data using the fitted vectorizer\n",
        "X_train_tfidf_comments = tfidf_vectorizer.transform(X_train_comments)\n",
        "\n",
        "# Fine-tune the classifier on comments training data\n",
        "classifier.fit(X_train_tfidf_comments, y_train_comments)  # Re-train\n",
        "\n",
        "# Evaluate the fine-tuned classifier on comments testing data\n",
        "X_test_tfidf_comments = tfidf_vectorizer.transform(X_test_comments)\n",
        "y_pred_comments = classifier.predict(X_test_tfidf_comments)\n",
        "\n",
        "# Print classification report\n",
        "print(\"Classification Report for Comments (Fine-tuned):\")\n",
        "print(classification_report(y_test_comments, y_pred_comments))\n",
        "\n",
        "# Print Accuracy\n",
        "acc = accuracy_score(y_test_comments, y_pred_comments)\n",
        "print(\"Accuracy for Comments (Fine-tuned): {:0.3f}\".format(acc))\n",
        "\n"
      ],
      "metadata": {
        "id": "EHigziUk6WeD",
        "colab": {
          "base_uri": "https://localhost:8080/"
        },
        "outputId": "7c229a78-a14a-4074-bdf7-cbb761b8a64b"
      },
      "execution_count": 29,
      "outputs": [
        {
          "output_type": "stream",
          "name": "stdout",
          "text": [
            "Classification Report for Comments (Fine-tuned):\n",
            "              precision    recall  f1-score   support\n",
            "\n",
            "    negative       0.82      0.58      0.68      1636\n",
            "     neutral       0.79      0.96      0.87      2537\n",
            "    positive       0.87      0.85      0.86      3202\n",
            "\n",
            "    accuracy                           0.83      7375\n",
            "   macro avg       0.83      0.80      0.80      7375\n",
            "weighted avg       0.83      0.83      0.82      7375\n",
            "\n",
            "Accuracy for Comments (Fine-tuned): 0.827\n"
          ]
        }
      ]
    },
    {
      "cell_type": "code",
      "source": [
        "#Testing\n",
        "test_phrases1 = ['test phrasing is good ', 'i don wanna go', 'that is some big Bullshit man']\n",
        "test_phrases = [\n",
        "  \"the book has 300 pages\",\n",
        "  \"the coffee is on the table\",\n",
        "  \"This movie was absolutely fantastic! I highly recommend it.\",\n",
        "  \"The service at this restaurant was terrible. I will never go back.\",\n",
        "  \"I'm so happy with my new phone! It's everything I wanted and more.\",\n",
        "  \"This product is a complete waste of money. It doesn't work at all.\",\n",
        "  \"I had a wonderful time at the concert last night. The music was amazing!\",\n",
        "  \"The weather today is awful. It's raining cats and dogs!\",\n",
        "  \"I'm feeling very optimistic about the future. Things are looking up!\",\n",
        "  \"I'm so disappointed with the outcome of the election. It's a real shame.\",\n",
        "  \"This book is a real page-turner. I couldn't put it down!\",\n",
        "  \"I'm bored out of my mind. There's nothing to do!\",\n",
        "]\n",
        "\n",
        "\n",
        "pd.DataFrame({'LABEL': classifier.predict(tfidf_vectorizer.transform(test_phrases)), 'FRASE': test_phrases})\n",
        "# pd.DataFrame({'LABEL': clas.predict(tfidf_vectorizer.transform(test_phrases1)), 'FRASE': test_phrases1})"
      ],
      "metadata": {
        "id": "hZDQmHmp9n4Q",
        "colab": {
          "base_uri": "https://localhost:8080/",
          "height": 425
        },
        "outputId": "87aa8453-1da8-4333-f9d2-280b9a0b11ed"
      },
      "execution_count": 30,
      "outputs": [
        {
          "output_type": "execute_result",
          "data": {
            "text/plain": [
              "       LABEL                                              FRASE\n",
              "0    neutral                             the book has 300 pages\n",
              "1    neutral                         the coffee is on the table\n",
              "2   positive  This movie was absolutely fantastic! I highly ...\n",
              "3   negative  The service at this restaurant was terrible. I...\n",
              "4   positive  I'm so happy with my new phone! It's everythin...\n",
              "5   negative  This product is a complete waste of money. It ...\n",
              "6   positive  I had a wonderful time at the concert last nig...\n",
              "7   negative  The weather today is awful. It's raining cats ...\n",
              "8    neutral  I'm feeling very optimistic about the future. ...\n",
              "9   negative  I'm so disappointed with the outcome of the el...\n",
              "10  positive  This book is a real page-turner. I couldn't pu...\n",
              "11   neutral   I'm bored out of my mind. There's nothing to do!"
            ],
            "text/html": [
              "\n",
              "  <div id=\"df-ba23af9b-98b7-496c-b546-5629083513dc\" class=\"colab-df-container\">\n",
              "    <div>\n",
              "<style scoped>\n",
              "    .dataframe tbody tr th:only-of-type {\n",
              "        vertical-align: middle;\n",
              "    }\n",
              "\n",
              "    .dataframe tbody tr th {\n",
              "        vertical-align: top;\n",
              "    }\n",
              "\n",
              "    .dataframe thead th {\n",
              "        text-align: right;\n",
              "    }\n",
              "</style>\n",
              "<table border=\"1\" class=\"dataframe\">\n",
              "  <thead>\n",
              "    <tr style=\"text-align: right;\">\n",
              "      <th></th>\n",
              "      <th>LABEL</th>\n",
              "      <th>FRASE</th>\n",
              "    </tr>\n",
              "  </thead>\n",
              "  <tbody>\n",
              "    <tr>\n",
              "      <th>0</th>\n",
              "      <td>neutral</td>\n",
              "      <td>the book has 300 pages</td>\n",
              "    </tr>\n",
              "    <tr>\n",
              "      <th>1</th>\n",
              "      <td>neutral</td>\n",
              "      <td>the coffee is on the table</td>\n",
              "    </tr>\n",
              "    <tr>\n",
              "      <th>2</th>\n",
              "      <td>positive</td>\n",
              "      <td>This movie was absolutely fantastic! I highly ...</td>\n",
              "    </tr>\n",
              "    <tr>\n",
              "      <th>3</th>\n",
              "      <td>negative</td>\n",
              "      <td>The service at this restaurant was terrible. I...</td>\n",
              "    </tr>\n",
              "    <tr>\n",
              "      <th>4</th>\n",
              "      <td>positive</td>\n",
              "      <td>I'm so happy with my new phone! It's everythin...</td>\n",
              "    </tr>\n",
              "    <tr>\n",
              "      <th>5</th>\n",
              "      <td>negative</td>\n",
              "      <td>This product is a complete waste of money. It ...</td>\n",
              "    </tr>\n",
              "    <tr>\n",
              "      <th>6</th>\n",
              "      <td>positive</td>\n",
              "      <td>I had a wonderful time at the concert last nig...</td>\n",
              "    </tr>\n",
              "    <tr>\n",
              "      <th>7</th>\n",
              "      <td>negative</td>\n",
              "      <td>The weather today is awful. It's raining cats ...</td>\n",
              "    </tr>\n",
              "    <tr>\n",
              "      <th>8</th>\n",
              "      <td>neutral</td>\n",
              "      <td>I'm feeling very optimistic about the future. ...</td>\n",
              "    </tr>\n",
              "    <tr>\n",
              "      <th>9</th>\n",
              "      <td>negative</td>\n",
              "      <td>I'm so disappointed with the outcome of the el...</td>\n",
              "    </tr>\n",
              "    <tr>\n",
              "      <th>10</th>\n",
              "      <td>positive</td>\n",
              "      <td>This book is a real page-turner. I couldn't pu...</td>\n",
              "    </tr>\n",
              "    <tr>\n",
              "      <th>11</th>\n",
              "      <td>neutral</td>\n",
              "      <td>I'm bored out of my mind. There's nothing to do!</td>\n",
              "    </tr>\n",
              "  </tbody>\n",
              "</table>\n",
              "</div>\n",
              "    <div class=\"colab-df-buttons\">\n",
              "\n",
              "  <div class=\"colab-df-container\">\n",
              "    <button class=\"colab-df-convert\" onclick=\"convertToInteractive('df-ba23af9b-98b7-496c-b546-5629083513dc')\"\n",
              "            title=\"Convert this dataframe to an interactive table.\"\n",
              "            style=\"display:none;\">\n",
              "\n",
              "  <svg xmlns=\"http://www.w3.org/2000/svg\" height=\"24px\" viewBox=\"0 -960 960 960\">\n",
              "    <path d=\"M120-120v-720h720v720H120Zm60-500h600v-160H180v160Zm220 220h160v-160H400v160Zm0 220h160v-160H400v160ZM180-400h160v-160H180v160Zm440 0h160v-160H620v160ZM180-180h160v-160H180v160Zm440 0h160v-160H620v160Z\"/>\n",
              "  </svg>\n",
              "    </button>\n",
              "\n",
              "  <style>\n",
              "    .colab-df-container {\n",
              "      display:flex;\n",
              "      gap: 12px;\n",
              "    }\n",
              "\n",
              "    .colab-df-convert {\n",
              "      background-color: #E8F0FE;\n",
              "      border: none;\n",
              "      border-radius: 50%;\n",
              "      cursor: pointer;\n",
              "      display: none;\n",
              "      fill: #1967D2;\n",
              "      height: 32px;\n",
              "      padding: 0 0 0 0;\n",
              "      width: 32px;\n",
              "    }\n",
              "\n",
              "    .colab-df-convert:hover {\n",
              "      background-color: #E2EBFA;\n",
              "      box-shadow: 0px 1px 2px rgba(60, 64, 67, 0.3), 0px 1px 3px 1px rgba(60, 64, 67, 0.15);\n",
              "      fill: #174EA6;\n",
              "    }\n",
              "\n",
              "    .colab-df-buttons div {\n",
              "      margin-bottom: 4px;\n",
              "    }\n",
              "\n",
              "    [theme=dark] .colab-df-convert {\n",
              "      background-color: #3B4455;\n",
              "      fill: #D2E3FC;\n",
              "    }\n",
              "\n",
              "    [theme=dark] .colab-df-convert:hover {\n",
              "      background-color: #434B5C;\n",
              "      box-shadow: 0px 1px 3px 1px rgba(0, 0, 0, 0.15);\n",
              "      filter: drop-shadow(0px 1px 2px rgba(0, 0, 0, 0.3));\n",
              "      fill: #FFFFFF;\n",
              "    }\n",
              "  </style>\n",
              "\n",
              "    <script>\n",
              "      const buttonEl =\n",
              "        document.querySelector('#df-ba23af9b-98b7-496c-b546-5629083513dc button.colab-df-convert');\n",
              "      buttonEl.style.display =\n",
              "        google.colab.kernel.accessAllowed ? 'block' : 'none';\n",
              "\n",
              "      async function convertToInteractive(key) {\n",
              "        const element = document.querySelector('#df-ba23af9b-98b7-496c-b546-5629083513dc');\n",
              "        const dataTable =\n",
              "          await google.colab.kernel.invokeFunction('convertToInteractive',\n",
              "                                                    [key], {});\n",
              "        if (!dataTable) return;\n",
              "\n",
              "        const docLinkHtml = 'Like what you see? Visit the ' +\n",
              "          '<a target=\"_blank\" href=https://colab.research.google.com/notebooks/data_table.ipynb>data table notebook</a>'\n",
              "          + ' to learn more about interactive tables.';\n",
              "        element.innerHTML = '';\n",
              "        dataTable['output_type'] = 'display_data';\n",
              "        await google.colab.output.renderOutput(dataTable, element);\n",
              "        const docLink = document.createElement('div');\n",
              "        docLink.innerHTML = docLinkHtml;\n",
              "        element.appendChild(docLink);\n",
              "      }\n",
              "    </script>\n",
              "  </div>\n",
              "\n",
              "\n",
              "<div id=\"df-27dce818-6757-4f9b-b665-9119661680a8\">\n",
              "  <button class=\"colab-df-quickchart\" onclick=\"quickchart('df-27dce818-6757-4f9b-b665-9119661680a8')\"\n",
              "            title=\"Suggest charts\"\n",
              "            style=\"display:none;\">\n",
              "\n",
              "<svg xmlns=\"http://www.w3.org/2000/svg\" height=\"24px\"viewBox=\"0 0 24 24\"\n",
              "     width=\"24px\">\n",
              "    <g>\n",
              "        <path d=\"M19 3H5c-1.1 0-2 .9-2 2v14c0 1.1.9 2 2 2h14c1.1 0 2-.9 2-2V5c0-1.1-.9-2-2-2zM9 17H7v-7h2v7zm4 0h-2V7h2v10zm4 0h-2v-4h2v4z\"/>\n",
              "    </g>\n",
              "</svg>\n",
              "  </button>\n",
              "\n",
              "<style>\n",
              "  .colab-df-quickchart {\n",
              "      --bg-color: #E8F0FE;\n",
              "      --fill-color: #1967D2;\n",
              "      --hover-bg-color: #E2EBFA;\n",
              "      --hover-fill-color: #174EA6;\n",
              "      --disabled-fill-color: #AAA;\n",
              "      --disabled-bg-color: #DDD;\n",
              "  }\n",
              "\n",
              "  [theme=dark] .colab-df-quickchart {\n",
              "      --bg-color: #3B4455;\n",
              "      --fill-color: #D2E3FC;\n",
              "      --hover-bg-color: #434B5C;\n",
              "      --hover-fill-color: #FFFFFF;\n",
              "      --disabled-bg-color: #3B4455;\n",
              "      --disabled-fill-color: #666;\n",
              "  }\n",
              "\n",
              "  .colab-df-quickchart {\n",
              "    background-color: var(--bg-color);\n",
              "    border: none;\n",
              "    border-radius: 50%;\n",
              "    cursor: pointer;\n",
              "    display: none;\n",
              "    fill: var(--fill-color);\n",
              "    height: 32px;\n",
              "    padding: 0;\n",
              "    width: 32px;\n",
              "  }\n",
              "\n",
              "  .colab-df-quickchart:hover {\n",
              "    background-color: var(--hover-bg-color);\n",
              "    box-shadow: 0 1px 2px rgba(60, 64, 67, 0.3), 0 1px 3px 1px rgba(60, 64, 67, 0.15);\n",
              "    fill: var(--button-hover-fill-color);\n",
              "  }\n",
              "\n",
              "  .colab-df-quickchart-complete:disabled,\n",
              "  .colab-df-quickchart-complete:disabled:hover {\n",
              "    background-color: var(--disabled-bg-color);\n",
              "    fill: var(--disabled-fill-color);\n",
              "    box-shadow: none;\n",
              "  }\n",
              "\n",
              "  .colab-df-spinner {\n",
              "    border: 2px solid var(--fill-color);\n",
              "    border-color: transparent;\n",
              "    border-bottom-color: var(--fill-color);\n",
              "    animation:\n",
              "      spin 1s steps(1) infinite;\n",
              "  }\n",
              "\n",
              "  @keyframes spin {\n",
              "    0% {\n",
              "      border-color: transparent;\n",
              "      border-bottom-color: var(--fill-color);\n",
              "      border-left-color: var(--fill-color);\n",
              "    }\n",
              "    20% {\n",
              "      border-color: transparent;\n",
              "      border-left-color: var(--fill-color);\n",
              "      border-top-color: var(--fill-color);\n",
              "    }\n",
              "    30% {\n",
              "      border-color: transparent;\n",
              "      border-left-color: var(--fill-color);\n",
              "      border-top-color: var(--fill-color);\n",
              "      border-right-color: var(--fill-color);\n",
              "    }\n",
              "    40% {\n",
              "      border-color: transparent;\n",
              "      border-right-color: var(--fill-color);\n",
              "      border-top-color: var(--fill-color);\n",
              "    }\n",
              "    60% {\n",
              "      border-color: transparent;\n",
              "      border-right-color: var(--fill-color);\n",
              "    }\n",
              "    80% {\n",
              "      border-color: transparent;\n",
              "      border-right-color: var(--fill-color);\n",
              "      border-bottom-color: var(--fill-color);\n",
              "    }\n",
              "    90% {\n",
              "      border-color: transparent;\n",
              "      border-bottom-color: var(--fill-color);\n",
              "    }\n",
              "  }\n",
              "</style>\n",
              "\n",
              "  <script>\n",
              "    async function quickchart(key) {\n",
              "      const quickchartButtonEl =\n",
              "        document.querySelector('#' + key + ' button');\n",
              "      quickchartButtonEl.disabled = true;  // To prevent multiple clicks.\n",
              "      quickchartButtonEl.classList.add('colab-df-spinner');\n",
              "      try {\n",
              "        const charts = await google.colab.kernel.invokeFunction(\n",
              "            'suggestCharts', [key], {});\n",
              "      } catch (error) {\n",
              "        console.error('Error during call to suggestCharts:', error);\n",
              "      }\n",
              "      quickchartButtonEl.classList.remove('colab-df-spinner');\n",
              "      quickchartButtonEl.classList.add('colab-df-quickchart-complete');\n",
              "    }\n",
              "    (() => {\n",
              "      let quickchartButtonEl =\n",
              "        document.querySelector('#df-27dce818-6757-4f9b-b665-9119661680a8 button');\n",
              "      quickchartButtonEl.style.display =\n",
              "        google.colab.kernel.accessAllowed ? 'block' : 'none';\n",
              "    })();\n",
              "  </script>\n",
              "</div>\n",
              "    </div>\n",
              "  </div>\n"
            ],
            "application/vnd.google.colaboratory.intrinsic+json": {
              "type": "dataframe",
              "summary": "{\n  \"name\": \"# pd\",\n  \"rows\": 12,\n  \"fields\": [\n    {\n      \"column\": \"LABEL\",\n      \"properties\": {\n        \"dtype\": \"category\",\n        \"num_unique_values\": 3,\n        \"samples\": [\n          \"neutral\",\n          \"positive\",\n          \"negative\"\n        ],\n        \"semantic_type\": \"\",\n        \"description\": \"\"\n      }\n    },\n    {\n      \"column\": \"FRASE\",\n      \"properties\": {\n        \"dtype\": \"string\",\n        \"num_unique_values\": 12,\n        \"samples\": [\n          \"This book is a real page-turner. I couldn't put it down!\",\n          \"I'm so disappointed with the outcome of the election. It's a real shame.\",\n          \"the book has 300 pages\"\n        ],\n        \"semantic_type\": \"\",\n        \"description\": \"\"\n      }\n    }\n  ]\n}"
            }
          },
          "metadata": {},
          "execution_count": 30
        }
      ]
    }
  ]
}